{
 "cells": [
  {
   "cell_type": "code",
   "execution_count": 1,
   "id": "b3f40971",
   "metadata": {},
   "outputs": [],
   "source": [
    "import plotly.express as px\n",
    "import re\n",
    "import plotly.io as pio\n",
    "# pio.renderers.default = \"browser\"\n",
    "pio.renderers.default = \"notebook_connected\"\n",
    "from collections import OrderedDict\n",
    "import argparse\n",
    "from scipy.stats import gmean\n",
    "import numpy as np\n",
    "import plotly.graph_objects as go\n",
    "import plotly.figure_factory as ff\n",
    "import os\n",
    "from util import bench_num_name_map, bench_num_unit_map, no_loop_end_list, bench_label_map"
   ]
  },
  {
   "cell_type": "code",
   "execution_count": 2,
   "id": "82d3def3",
   "metadata": {},
   "outputs": [],
   "source": [
    "# def construct_argparser():\n",
    "#     parser = argparse.ArgumentParser(description='plot')\n",
    "#     parser.add_argument('-t',\n",
    "#                         '--tag',\n",
    "#                         help='tag',\n",
    "#                         default='base_refrate_orig_config-m64.0000',\n",
    "#                         )\n",
    "    \n",
    "#     parser.add_argument('-n',\n",
    "#                         '--num',\n",
    "#                         nargs='+',\n",
    "#                         help='bench num',\n",
    "#                         default=[505]\n",
    "#                         )\n",
    "#     return parser"
   ]
  },
  {
   "cell_type": "code",
   "execution_count": 3,
   "id": "a74c6640",
   "metadata": {},
   "outputs": [],
   "source": [
    "# parser = construct_argparser()\n",
    "# args = parser.parse_args()"
   ]
  },
  {
   "cell_type": "markdown",
   "id": "572985c3",
   "metadata": {},
   "source": [
    "# specify spec number below"
   ]
  },
  {
   "cell_type": "code",
   "execution_count": 4,
   "id": "d11ddf91",
   "metadata": {},
   "outputs": [],
   "source": [
    "# bench_num=args.num[0]\n",
    "# 5503, 505, 507, 525, 557\n",
    "bench_num=525\n",
    "bench_name=bench_num_name_map[bench_num]\n",
    "bench_unit = bench_num_unit_map[bench_num]"
   ]
  },
  {
   "cell_type": "code",
   "execution_count": 5,
   "id": "fb8bf04e",
   "metadata": {},
   "outputs": [],
   "source": [
    "# tag=args.tag\n",
    "tag=f'base_refrate_orig_{bench_label_map[bench_num]}-m64.0000'\n",
    "# tag='base_refrate_orig_config-m64.0000'"
   ]
  },
  {
   "cell_type": "code",
   "execution_count": 6,
   "id": "804ae2a2",
   "metadata": {},
   "outputs": [],
   "source": [
    "file=f\"/home/zhewen/repo/cpu2017/benchspec/CPU/{bench_num}.{bench_name}/run/run_{tag}/out.txt\""
   ]
  },
  {
   "cell_type": "code",
   "execution_count": 7,
   "id": "5eb9d053",
   "metadata": {},
   "outputs": [],
   "source": [
    "find_comma_num = lambda line: int(re.findall(r'\\b\\d[\\d,.]*\\b', line)[1].replace(',',''))"
   ]
  },
  {
   "cell_type": "code",
   "execution_count": 8,
   "id": "feabebb5",
   "metadata": {},
   "outputs": [],
   "source": [
    "file1 = open(file, 'r')\n",
    "Lines = file1.readlines()\n",
    "  \n",
    "count = 0\n",
    "cycles_core = []\n",
    "cycles_atom = []\n",
    "insns_core = []\n",
    "insns_atom = []\n",
    "begins = []\n",
    "ends = []\n",
    "# Strips the newline character\n",
    "for line in Lines:\n",
    "    count += 1\n",
    "    if 'cpu_core/cycles/' in line: \n",
    "        if '<not counted>' in line: \n",
    "            cycles_core.append(0)\n",
    "            continue\n",
    "        cycle_core=find_comma_num(line)\n",
    "        cycles_core.append(cycle_core)\n",
    "    elif 'cpu_atom/cycles/' in line:\n",
    "        if 'not counted' in line: \n",
    "            cycles_atom.append(0)\n",
    "            continue\n",
    "        cycle_atom=find_comma_num(line)\n",
    "        cycles_atom.append(cycle_atom)\n",
    "    elif 'cpu_core/instructions/' in line:\n",
    "        if 'not counted' in line: \n",
    "            insns_core.append(0)\n",
    "            continue\n",
    "        insn_core=find_comma_num(line)\n",
    "        insns_core.append(insn_core)\n",
    "    elif 'cpu_atom/instructions/' in line:\n",
    "        if 'not counted' in line: \n",
    "            insns_atom.append(0)\n",
    "            continue\n",
    "        insn_atom=find_comma_num(line)\n",
    "        insns_atom.append(insn_atom)\n",
    "    elif 'loop ' in line or 'loop_begin' in line:\n",
    "        begin=find_comma_num(line)\n",
    "        begins.append(begin)\n",
    "    elif 'loop_end' in line:\n",
    "        end=find_comma_num(line)\n",
    "        ends.append(end)\n",
    "        "
   ]
  },
  {
   "cell_type": "code",
   "execution_count": 9,
   "id": "edc8ebd0",
   "metadata": {},
   "outputs": [],
   "source": [
    "cycles = [core+atom for core,atom in zip(cycles_core, cycles_atom)]\n",
    "insns = [core+atom for core,atom in zip(insns_core, insns_atom)]"
   ]
  },
  {
   "cell_type": "code",
   "execution_count": 10,
   "id": "67ac368f",
   "metadata": {
    "scrolled": false
   },
   "outputs": [
    {
     "name": "stdout",
     "output_type": "stream",
     "text": [
      "end valid\n",
      "begin valid\n"
     ]
    }
   ],
   "source": [
    "if ends and all(elem == 0 or elem == 1 for elem in ends):\n",
    "    print('end valid')\n",
    "else: assert False, 'end contains other'\n",
    "if begins and all(elem == 0 or elem == 1 for elem in begins):\n",
    "    print('begin valid')\n",
    "else: assert False, 'begin contains other'\n"
   ]
  },
  {
   "cell_type": "code",
   "execution_count": 11,
   "id": "fc0be674",
   "metadata": {},
   "outputs": [],
   "source": [
    "if bench_num not in no_loop_end_list: assert len(ends) != 0"
   ]
  },
  {
   "cell_type": "code",
   "execution_count": 12,
   "id": "049dede6",
   "metadata": {},
   "outputs": [],
   "source": [
    "cpis = [c/i for c,i in zip(cycles,insns)]"
   ]
  },
  {
   "cell_type": "code",
   "execution_count": 13,
   "id": "b413fca7",
   "metadata": {},
   "outputs": [],
   "source": [
    "index_begin=[ i for i in range(len(begins)) if begins[i] == 1 ]\n",
    "if bench_num in no_loop_end_list: \n",
    "    index_begin = index_begin[0:-1]#ignore last begin\n",
    "index_end =[ i for i in range(len(ends)) if ends[i] == 1 ]\n",
    "# if bench_num not in no_loop_end_list: \n",
    "assert len(index_begin)==len(index_end),print(len(index_begin),len(index_end))"
   ]
  },
  {
   "cell_type": "code",
   "execution_count": 14,
   "id": "3a5402d2",
   "metadata": {},
   "outputs": [
    {
     "name": "stdout",
     "output_type": "stream",
     "text": [
      "2444.4444444444443 ms, total 10 iterations\n"
     ]
    }
   ],
   "source": [
    "ticks=[]\n",
    "i = 0 \n",
    "for b, e in zip(index_begin,index_end):\n",
    "    tick=e-b\n",
    "    if i!= 0: ticks.append(tick)\n",
    "    i += 1\n",
    "avg_ticks=float(sum(ticks)/len(ticks))\n",
    "avg_ms = avg_ticks*float(bench_unit)\n",
    "print(f'{avg_ms} ms, total {len(index_begin)} iterations')"
   ]
  },
  {
   "cell_type": "code",
   "execution_count": 15,
   "id": "19120a4d",
   "metadata": {},
   "outputs": [
    {
     "data": {
      "text/html": [
       "        <script type=\"text/javascript\">\n",
       "        window.PlotlyConfig = {MathJaxConfig: 'local'};\n",
       "        if (window.MathJax && window.MathJax.Hub && window.MathJax.Hub.Config) {window.MathJax.Hub.Config({SVG: {font: \"STIX-Web\"}});}\n",
       "        if (typeof require !== 'undefined') {\n",
       "        require.undef(\"plotly\");\n",
       "        requirejs.config({\n",
       "            paths: {\n",
       "                'plotly': ['https://cdn.plot.ly/plotly-2.12.1.min']\n",
       "            }\n",
       "        });\n",
       "        require(['plotly'], function(Plotly) {\n",
       "            window._Plotly = Plotly;\n",
       "        });\n",
       "        }\n",
       "        </script>\n",
       "        "
      ]
     },
     "metadata": {},
     "output_type": "display_data"
    },
    {
     "data": {
      "text/html": [
       "<div>                            <div id=\"9328784a-8baf-4a9e-9cbd-b7bf1badd2ef\" class=\"plotly-graph-div\" style=\"height:525px; width:100%;\"></div>            <script type=\"text/javascript\">                require([\"plotly\"], function(Plotly) {                    window.PLOTLYENV=window.PLOTLYENV || {};                                    if (document.getElementById(\"9328784a-8baf-4a9e-9cbd-b7bf1badd2ef\")) {                    Plotly.newPlot(                        \"9328784a-8baf-4a9e-9cbd-b7bf1badd2ef\",                        [{\"mode\":\"lines\",\"name\":\"cpi\",\"x\":[0,1,2,3,4,5,6,7,8,9,10,11,12,13,14,15,16,17,18,19,20,21,22,23,24,25,26,27,28,29,30,31,32,33,34,35,36,37,38,39,40,41,42,43,44,45,46,47,48,49,50,51,52,53,54,55,56,57,58,59,60,61,62,63,64,65,66,67,68,69,70,71,72,73,74,75,76,77,78,79,80,81,82,83,84,85,86,87,88,89,90,91,92,93,94,95,96,97,98,99,100,101,102,103,104,105,106,107,108,109,110,111,112,113,114,115,116,117,118,119,120,121,122,123,124,125,126,127,128,129,130,131,132,133,134,135,136,137,138,139,140,141,142,143,144,145,146,147,148,149,150,151,152,153,154,155,156,157,158,159,160,161,162,163,164,165,166,167,168,169,170,171,172,173,174,175,176,177,178,179,180,181,182,183,184,185,186,187,188,189,190,191,192,193,194,195,196,197,198,199,200,201,202,203,204,205,206,207,208,209,210,211,212,213,214,215,216,217,218,219,220,221,222,223,224,225,226,227,228,229,230,231,232,233,234,235,236,237,238,239,240,241,242,243,244,245,246,247],\"y\":[0.545985321226268,0.40160548018019787,0.23043066867762907,0.23203237312128244,0.23542469358875795,0.25784193550476764,0.2903893599264158,0.27994622214817055,0.26536003080212633,0.27449011472568235,0.2681201466648037,0.270557950470862,0.27855543726562243,0.24281861525013482,0.23662652571342394,0.2525865586291712,0.2906265075013743,0.283308011293121,0.2808537557434583,0.27953939226822444,0.24472410637085876,0.2454356275766125,0.27525788833873516,0.27334465944919134,0.2342149292538162,0.2282612120353982,0.22406035293110402,0.23413535194458823,0.2252923935579534,0.23098851975564766,0.2377722651787671,0.29196267251588726,0.23615106402320774,0.23707023646980535,0.24298961849555412,0.23933510598100757,0.23697837394207147,0.23550321447681705,0.23538193844057134,0.26224551603451807,0.24125493097015085,0.23004441843873946,0.2349512398546287,0.23994360934917616,0.22735873839947363,0.22920061121127633,0.22966211184972143,0.2204797871765903,0.23000647469310154,0.23245805659306312,0.2267674503121377,0.23618149629876836,0.22704240522197447,0.2215516323717634,0.2174543923520202,0.23000057933177837,0.23012946455706956,0.26471205016018584,0.23303750030442383,0.24238760414250346,0.23933013162244404,0.32156562072174494,0.2754432125921043,0.263335201658321,0.24871218505218062,0.31311826671617354,0.26815012416909006,0.26730778655963705,0.2732856666518468,0.29753094511230843,0.2698992468444574,0.24983462671242046,0.2327923245567337,0.24112949830756325,0.2536648158589474,0.24993823192910583,0.22796662410979418,0.22449467427585423,0.21099483442237563,0.23647777128552327,0.2203227250858639,0.23021600371426484,0.22362400019562034,0.23892489271201584,0.2293428457675006,0.22975434319621302,0.2369205628444565,0.22698270255422992,0.22840623540436222,0.2273347323769525,0.22431730829284188,0.2218123512073293,0.2201666760488099,0.22599996045295498,0.24333382045030894,0.2267543352804,0.23906432612317216,0.246602128185407,0.2249720088053208,0.2282394647557334,0.21936289401059628,0.2256527497323687,0.21722003442928015,0.21899390788671447,0.2433438415123822,0.26242650072161755,0.24817293235883398,0.2543680310517745,0.3226174768663704,0.2810467795045389,0.2696037110010126,0.27750432868300196,0.2909911316921107,0.28528504648461195,0.2869429021345231,0.2746273041750956,0.2866328798691882,0.2751606398494703,0.27374466184784435,0.2820237725023359,0.27686607829413834,0.27482715469066493,0.27609084684649543,0.28554260300806006,0.2714919494016029,0.27212414777728827,0.2713514395758081,0.2714849897640563,0.2803359110822918,0.302285212877426,0.28922494041660407,0.30704560551678167,0.2990567240370148,0.3066483661878304,0.2923026230755513,0.2937337332762943,0.2916657336241464,0.2752542649934334,0.2945375106962564,0.2998963081232185,0.31483848030484557,0.2998789586174862,0.28980876580895676,0.2908426958515843,0.27402157809751543,0.29869304969439914,0.2855874707470981,0.2991874533452562,0.2944488032356277,0.28598174847088753,0.2982238896816757,0.28277179759396187,0.293116811447232,0.2665269516939636,0.30435873795580265,0.2838633587403516,0.289783733271349,0.2872226881413948,0.2936638346203132,0.29984509618548244,0.28930467000906473,0.2952733652440794,0.2858486874367751,0.28336143579830275,0.28927130949311336,0.29890063944602707,0.28336675835682906,0.2910361857009991,0.30955010322455495,0.29512959601172783,0.2917780206711427,0.28266217276497574,0.2812109494068593,0.29179975225197113,0.2961919506003365,0.28741177400399004,0.27900767971854284,0.27810857594645794,0.27126736165091564,0.28012980192721637,0.28875538157758374,0.29298863788903406,0.26587853358316704,0.2591842726506707,0.3160110202316149,0.2733280361986835,0.2785883141838513,0.2820900583710087,0.2891842221907064,0.2828153872174028,0.28769736097835846,0.2915415377948698,0.29101066504130707,0.2923359999124663,0.2755379300584167,0.2923918401707875,0.29176860182633385,0.28030115293173674,0.2872141534317542,0.28653743883613036,0.2906436080399384,0.2998479852933673,0.28675794538373006,0.2715878171486047,0.28096277707322276,0.28996120181076296,0.2922068213561085,0.29080272027863935,0.29798252491255584,0.279186489395136,0.2857566666181979,0.2971627524124558,0.28989443626355493,0.2880268270993754,0.28785114273948653,0.28941341334229953,0.29432881497662416,0.29743463466154496,0.30664845953715764,0.28985503963978254,0.2791569361351932,0.2720015027315757,0.2769364508931554,0.2846741254440968,0.2828029973509123,0.27644487289407177,0.29234172471319436,0.29237855975245675,0.28174825474934506,0.29704423989117495,0.27882153309345625,0.29782124028814944,0.29391589217282865,0.2909064704869552,0.2757423363683188,0.27448841984018507,0.26915055748262257,0.29010113583279473,0.2740644957680857,0.2685109321009708,0.28257995686388887,0.292774849311028,0.304844451660136,0.3077272098062348,0.2967598604329729,0.3004497762699472,0.3209627620805142,0.38329850519103803],\"type\":\"scatter\"}],                        {\"template\":{\"data\":{\"histogram2dcontour\":[{\"type\":\"histogram2dcontour\",\"colorbar\":{\"outlinewidth\":0,\"ticks\":\"\"},\"colorscale\":[[0.0,\"#0d0887\"],[0.1111111111111111,\"#46039f\"],[0.2222222222222222,\"#7201a8\"],[0.3333333333333333,\"#9c179e\"],[0.4444444444444444,\"#bd3786\"],[0.5555555555555556,\"#d8576b\"],[0.6666666666666666,\"#ed7953\"],[0.7777777777777778,\"#fb9f3a\"],[0.8888888888888888,\"#fdca26\"],[1.0,\"#f0f921\"]]}],\"choropleth\":[{\"type\":\"choropleth\",\"colorbar\":{\"outlinewidth\":0,\"ticks\":\"\"}}],\"histogram2d\":[{\"type\":\"histogram2d\",\"colorbar\":{\"outlinewidth\":0,\"ticks\":\"\"},\"colorscale\":[[0.0,\"#0d0887\"],[0.1111111111111111,\"#46039f\"],[0.2222222222222222,\"#7201a8\"],[0.3333333333333333,\"#9c179e\"],[0.4444444444444444,\"#bd3786\"],[0.5555555555555556,\"#d8576b\"],[0.6666666666666666,\"#ed7953\"],[0.7777777777777778,\"#fb9f3a\"],[0.8888888888888888,\"#fdca26\"],[1.0,\"#f0f921\"]]}],\"heatmap\":[{\"type\":\"heatmap\",\"colorbar\":{\"outlinewidth\":0,\"ticks\":\"\"},\"colorscale\":[[0.0,\"#0d0887\"],[0.1111111111111111,\"#46039f\"],[0.2222222222222222,\"#7201a8\"],[0.3333333333333333,\"#9c179e\"],[0.4444444444444444,\"#bd3786\"],[0.5555555555555556,\"#d8576b\"],[0.6666666666666666,\"#ed7953\"],[0.7777777777777778,\"#fb9f3a\"],[0.8888888888888888,\"#fdca26\"],[1.0,\"#f0f921\"]]}],\"heatmapgl\":[{\"type\":\"heatmapgl\",\"colorbar\":{\"outlinewidth\":0,\"ticks\":\"\"},\"colorscale\":[[0.0,\"#0d0887\"],[0.1111111111111111,\"#46039f\"],[0.2222222222222222,\"#7201a8\"],[0.3333333333333333,\"#9c179e\"],[0.4444444444444444,\"#bd3786\"],[0.5555555555555556,\"#d8576b\"],[0.6666666666666666,\"#ed7953\"],[0.7777777777777778,\"#fb9f3a\"],[0.8888888888888888,\"#fdca26\"],[1.0,\"#f0f921\"]]}],\"contourcarpet\":[{\"type\":\"contourcarpet\",\"colorbar\":{\"outlinewidth\":0,\"ticks\":\"\"}}],\"contour\":[{\"type\":\"contour\",\"colorbar\":{\"outlinewidth\":0,\"ticks\":\"\"},\"colorscale\":[[0.0,\"#0d0887\"],[0.1111111111111111,\"#46039f\"],[0.2222222222222222,\"#7201a8\"],[0.3333333333333333,\"#9c179e\"],[0.4444444444444444,\"#bd3786\"],[0.5555555555555556,\"#d8576b\"],[0.6666666666666666,\"#ed7953\"],[0.7777777777777778,\"#fb9f3a\"],[0.8888888888888888,\"#fdca26\"],[1.0,\"#f0f921\"]]}],\"surface\":[{\"type\":\"surface\",\"colorbar\":{\"outlinewidth\":0,\"ticks\":\"\"},\"colorscale\":[[0.0,\"#0d0887\"],[0.1111111111111111,\"#46039f\"],[0.2222222222222222,\"#7201a8\"],[0.3333333333333333,\"#9c179e\"],[0.4444444444444444,\"#bd3786\"],[0.5555555555555556,\"#d8576b\"],[0.6666666666666666,\"#ed7953\"],[0.7777777777777778,\"#fb9f3a\"],[0.8888888888888888,\"#fdca26\"],[1.0,\"#f0f921\"]]}],\"mesh3d\":[{\"type\":\"mesh3d\",\"colorbar\":{\"outlinewidth\":0,\"ticks\":\"\"}}],\"scatter\":[{\"fillpattern\":{\"fillmode\":\"overlay\",\"size\":10,\"solidity\":0.2},\"type\":\"scatter\"}],\"parcoords\":[{\"type\":\"parcoords\",\"line\":{\"colorbar\":{\"outlinewidth\":0,\"ticks\":\"\"}}}],\"scatterpolargl\":[{\"type\":\"scatterpolargl\",\"marker\":{\"colorbar\":{\"outlinewidth\":0,\"ticks\":\"\"}}}],\"bar\":[{\"error_x\":{\"color\":\"#2a3f5f\"},\"error_y\":{\"color\":\"#2a3f5f\"},\"marker\":{\"line\":{\"color\":\"#E5ECF6\",\"width\":0.5},\"pattern\":{\"fillmode\":\"overlay\",\"size\":10,\"solidity\":0.2}},\"type\":\"bar\"}],\"scattergeo\":[{\"type\":\"scattergeo\",\"marker\":{\"colorbar\":{\"outlinewidth\":0,\"ticks\":\"\"}}}],\"scatterpolar\":[{\"type\":\"scatterpolar\",\"marker\":{\"colorbar\":{\"outlinewidth\":0,\"ticks\":\"\"}}}],\"histogram\":[{\"marker\":{\"pattern\":{\"fillmode\":\"overlay\",\"size\":10,\"solidity\":0.2}},\"type\":\"histogram\"}],\"scattergl\":[{\"type\":\"scattergl\",\"marker\":{\"colorbar\":{\"outlinewidth\":0,\"ticks\":\"\"}}}],\"scatter3d\":[{\"type\":\"scatter3d\",\"line\":{\"colorbar\":{\"outlinewidth\":0,\"ticks\":\"\"}},\"marker\":{\"colorbar\":{\"outlinewidth\":0,\"ticks\":\"\"}}}],\"scattermapbox\":[{\"type\":\"scattermapbox\",\"marker\":{\"colorbar\":{\"outlinewidth\":0,\"ticks\":\"\"}}}],\"scatterternary\":[{\"type\":\"scatterternary\",\"marker\":{\"colorbar\":{\"outlinewidth\":0,\"ticks\":\"\"}}}],\"scattercarpet\":[{\"type\":\"scattercarpet\",\"marker\":{\"colorbar\":{\"outlinewidth\":0,\"ticks\":\"\"}}}],\"carpet\":[{\"aaxis\":{\"endlinecolor\":\"#2a3f5f\",\"gridcolor\":\"white\",\"linecolor\":\"white\",\"minorgridcolor\":\"white\",\"startlinecolor\":\"#2a3f5f\"},\"baxis\":{\"endlinecolor\":\"#2a3f5f\",\"gridcolor\":\"white\",\"linecolor\":\"white\",\"minorgridcolor\":\"white\",\"startlinecolor\":\"#2a3f5f\"},\"type\":\"carpet\"}],\"table\":[{\"cells\":{\"fill\":{\"color\":\"#EBF0F8\"},\"line\":{\"color\":\"white\"}},\"header\":{\"fill\":{\"color\":\"#C8D4E3\"},\"line\":{\"color\":\"white\"}},\"type\":\"table\"}],\"barpolar\":[{\"marker\":{\"line\":{\"color\":\"#E5ECF6\",\"width\":0.5},\"pattern\":{\"fillmode\":\"overlay\",\"size\":10,\"solidity\":0.2}},\"type\":\"barpolar\"}],\"pie\":[{\"automargin\":true,\"type\":\"pie\"}]},\"layout\":{\"autotypenumbers\":\"strict\",\"colorway\":[\"#636efa\",\"#EF553B\",\"#00cc96\",\"#ab63fa\",\"#FFA15A\",\"#19d3f3\",\"#FF6692\",\"#B6E880\",\"#FF97FF\",\"#FECB52\"],\"font\":{\"color\":\"#2a3f5f\"},\"hovermode\":\"closest\",\"hoverlabel\":{\"align\":\"left\"},\"paper_bgcolor\":\"white\",\"plot_bgcolor\":\"#E5ECF6\",\"polar\":{\"bgcolor\":\"#E5ECF6\",\"angularaxis\":{\"gridcolor\":\"white\",\"linecolor\":\"white\",\"ticks\":\"\"},\"radialaxis\":{\"gridcolor\":\"white\",\"linecolor\":\"white\",\"ticks\":\"\"}},\"ternary\":{\"bgcolor\":\"#E5ECF6\",\"aaxis\":{\"gridcolor\":\"white\",\"linecolor\":\"white\",\"ticks\":\"\"},\"baxis\":{\"gridcolor\":\"white\",\"linecolor\":\"white\",\"ticks\":\"\"},\"caxis\":{\"gridcolor\":\"white\",\"linecolor\":\"white\",\"ticks\":\"\"}},\"coloraxis\":{\"colorbar\":{\"outlinewidth\":0,\"ticks\":\"\"}},\"colorscale\":{\"sequential\":[[0.0,\"#0d0887\"],[0.1111111111111111,\"#46039f\"],[0.2222222222222222,\"#7201a8\"],[0.3333333333333333,\"#9c179e\"],[0.4444444444444444,\"#bd3786\"],[0.5555555555555556,\"#d8576b\"],[0.6666666666666666,\"#ed7953\"],[0.7777777777777778,\"#fb9f3a\"],[0.8888888888888888,\"#fdca26\"],[1.0,\"#f0f921\"]],\"sequentialminus\":[[0.0,\"#0d0887\"],[0.1111111111111111,\"#46039f\"],[0.2222222222222222,\"#7201a8\"],[0.3333333333333333,\"#9c179e\"],[0.4444444444444444,\"#bd3786\"],[0.5555555555555556,\"#d8576b\"],[0.6666666666666666,\"#ed7953\"],[0.7777777777777778,\"#fb9f3a\"],[0.8888888888888888,\"#fdca26\"],[1.0,\"#f0f921\"]],\"diverging\":[[0,\"#8e0152\"],[0.1,\"#c51b7d\"],[0.2,\"#de77ae\"],[0.3,\"#f1b6da\"],[0.4,\"#fde0ef\"],[0.5,\"#f7f7f7\"],[0.6,\"#e6f5d0\"],[0.7,\"#b8e186\"],[0.8,\"#7fbc41\"],[0.9,\"#4d9221\"],[1,\"#276419\"]]},\"xaxis\":{\"gridcolor\":\"white\",\"linecolor\":\"white\",\"ticks\":\"\",\"title\":{\"standoff\":15},\"zerolinecolor\":\"white\",\"automargin\":true,\"zerolinewidth\":2},\"yaxis\":{\"gridcolor\":\"white\",\"linecolor\":\"white\",\"ticks\":\"\",\"title\":{\"standoff\":15},\"zerolinecolor\":\"white\",\"automargin\":true,\"zerolinewidth\":2},\"scene\":{\"xaxis\":{\"backgroundcolor\":\"#E5ECF6\",\"gridcolor\":\"white\",\"linecolor\":\"white\",\"showbackground\":true,\"ticks\":\"\",\"zerolinecolor\":\"white\",\"gridwidth\":2},\"yaxis\":{\"backgroundcolor\":\"#E5ECF6\",\"gridcolor\":\"white\",\"linecolor\":\"white\",\"showbackground\":true,\"ticks\":\"\",\"zerolinecolor\":\"white\",\"gridwidth\":2},\"zaxis\":{\"backgroundcolor\":\"#E5ECF6\",\"gridcolor\":\"white\",\"linecolor\":\"white\",\"showbackground\":true,\"ticks\":\"\",\"zerolinecolor\":\"white\",\"gridwidth\":2}},\"shapedefaults\":{\"line\":{\"color\":\"#2a3f5f\"}},\"annotationdefaults\":{\"arrowcolor\":\"#2a3f5f\",\"arrowhead\":0,\"arrowwidth\":1},\"geo\":{\"bgcolor\":\"white\",\"landcolor\":\"#E5ECF6\",\"subunitcolor\":\"white\",\"showland\":true,\"showlakes\":true,\"lakecolor\":\"white\"},\"title\":{\"x\":0.05},\"mapbox\":{\"style\":\"light\"}}},\"title\":{\"text\":\"x264_r phase analysis, per iteration latency=2444.4444444444443 ms\"},\"xaxis\":{\"title\":{\"text\":\"nx100 ms\"}},\"yaxis\":{\"title\":{\"text\":\"cpi\"}},\"shapes\":[{\"fillcolor\":\"red\",\"line\":{\"width\":0},\"opacity\":0.1,\"type\":\"rect\",\"x0\":0,\"x1\":20,\"xref\":\"x\",\"y0\":0,\"y1\":1,\"yref\":\"y domain\"},{\"fillcolor\":\"green\",\"line\":{\"width\":0},\"opacity\":0.1,\"type\":\"rect\",\"x0\":20,\"x1\":39,\"xref\":\"x\",\"y0\":0,\"y1\":1,\"yref\":\"y domain\"},{\"fillcolor\":\"red\",\"line\":{\"width\":0},\"opacity\":0.1,\"type\":\"rect\",\"x0\":39,\"x1\":57,\"xref\":\"x\",\"y0\":0,\"y1\":1,\"yref\":\"y domain\"},{\"fillcolor\":\"green\",\"line\":{\"width\":0},\"opacity\":0.1,\"type\":\"rect\",\"x0\":57,\"x1\":79,\"xref\":\"x\",\"y0\":0,\"y1\":1,\"yref\":\"y domain\"},{\"fillcolor\":\"red\",\"line\":{\"width\":0},\"opacity\":0.1,\"type\":\"rect\",\"x0\":79,\"x1\":97,\"xref\":\"x\",\"y0\":0,\"y1\":1,\"yref\":\"y domain\"},{\"fillcolor\":\"green\",\"line\":{\"width\":0},\"opacity\":0.1,\"type\":\"rect\",\"x0\":97,\"x1\":117,\"xref\":\"x\",\"y0\":0,\"y1\":1,\"yref\":\"y domain\"},{\"fillcolor\":\"red\",\"line\":{\"width\":0},\"opacity\":0.1,\"type\":\"rect\",\"x0\":117,\"x1\":147,\"xref\":\"x\",\"y0\":0,\"y1\":1,\"yref\":\"y domain\"},{\"fillcolor\":\"green\",\"line\":{\"width\":0},\"opacity\":0.1,\"type\":\"rect\",\"x0\":147,\"x1\":180,\"xref\":\"x\",\"y0\":0,\"y1\":1,\"yref\":\"y domain\"},{\"fillcolor\":\"red\",\"line\":{\"width\":0},\"opacity\":0.1,\"type\":\"rect\",\"x0\":180,\"x1\":213,\"xref\":\"x\",\"y0\":0,\"y1\":1,\"yref\":\"y domain\"},{\"fillcolor\":\"green\",\"line\":{\"width\":0},\"opacity\":0.1,\"type\":\"rect\",\"x0\":213,\"x1\":240,\"xref\":\"x\",\"y0\":0,\"y1\":1,\"yref\":\"y domain\"}]},                        {\"responsive\": true}                    ).then(function(){\n",
       "                            \n",
       "var gd = document.getElementById('9328784a-8baf-4a9e-9cbd-b7bf1badd2ef');\n",
       "var x = new MutationObserver(function (mutations, observer) {{\n",
       "        var display = window.getComputedStyle(gd).display;\n",
       "        if (!display || display === 'none') {{\n",
       "            console.log([gd, 'removed!']);\n",
       "            Plotly.purge(gd);\n",
       "            observer.disconnect();\n",
       "        }}\n",
       "}});\n",
       "\n",
       "// Listen for the removal of the full notebook cells\n",
       "var notebookContainer = gd.closest('#notebook-container');\n",
       "if (notebookContainer) {{\n",
       "    x.observe(notebookContainer, {childList: true});\n",
       "}}\n",
       "\n",
       "// Listen for the clearing of the current output cell\n",
       "var outputEl = gd.closest('.output');\n",
       "if (outputEl) {{\n",
       "    x.observe(outputEl, {childList: true});\n",
       "}}\n",
       "\n",
       "                        })                };                });            </script>        </div>"
      ]
     },
     "metadata": {},
     "output_type": "display_data"
    }
   ],
   "source": [
    "x=np.arange(len(cpis))\n",
    "fig = go.Figure()\n",
    "\n",
    "fig.add_trace(go.Scatter(x=x, y=cpis,\n",
    "                mode='lines',\n",
    "                name=f'cpi',\n",
    "                ))\n",
    "# fig.update_yaxes(type=\"log\")\n",
    "fig.update_layout(title=f'{bench_name} phase analysis, per iteration latency={avg_ms} ms',\n",
    "                   xaxis_title=f'nx{bench_unit} ms',\n",
    "                   yaxis_title='cpi')\n",
    "\n",
    "if bench_num not in no_loop_end_list:\n",
    "    for b,n in zip(index_begin, index_end):\n",
    "        index = index_begin.index(b)\n",
    "        if (index % 2) == 0: color = 'red' \n",
    "        else: color = \"green\"\n",
    "        fig.add_vrect(x0=b, x1=n, line_width=0, fillcolor=color, opacity=0.1)\n",
    "else:\n",
    "    for i in range(len(index_begin)-1):\n",
    "        if (i % 2) == 0: color = 'red'\n",
    "        else: color = \"green\"\n",
    "        fig.add_vrect(x0=index_begin[i], x1=index_begin[i+1], line_width=0, fillcolor=color, opacity=0.1)\n",
    "fig.show()\n",
    "    "
   ]
  },
  {
   "cell_type": "code",
   "execution_count": null,
   "id": "1fa9fe5d",
   "metadata": {},
   "outputs": [],
   "source": []
  }
 ],
 "metadata": {
  "kernelspec": {
   "display_name": "Python 3 (ipykernel)",
   "language": "python",
   "name": "python3"
  },
  "language_info": {
   "codemirror_mode": {
    "name": "ipython",
    "version": 3
   },
   "file_extension": ".py",
   "mimetype": "text/x-python",
   "name": "python",
   "nbconvert_exporter": "python",
   "pygments_lexer": "ipython3",
   "version": "3.8.10"
  }
 },
 "nbformat": 4,
 "nbformat_minor": 5
}
