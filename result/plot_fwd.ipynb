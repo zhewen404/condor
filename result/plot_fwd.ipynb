{
 "cells": [
  {
   "cell_type": "code",
   "execution_count": 1,
   "id": "d33cbf8d",
   "metadata": {},
   "outputs": [],
   "source": [
    "from collections import OrderedDict\n",
    "import argparse\n",
    "import re\n",
    "from scipy.stats import gmean\n",
    "\n",
    "pattern_map = {\n",
    "    'runtime': 'simTicks\\s+\\d+',\n",
    "    'network_lat': 'system.ruby.network.average_packet_network_latency\\s+\\d+',\n",
    "    'inst': 'simInsts\\s+\\d+',\n",
    "    'miss_stale': 'system.ruby.l2_cntrl\\d+.L2cache.m_fwd_issued\\s+\\d+',\n",
    "    'miss_total': 'system.ruby.l2_cntrl\\d+.L2cache.m_demand_misses\\s+\\d+',\n",
    "    'hit_total': 'system.ruby.l2_cntrl\\d+.L2cache.m_demand_hits\\s+\\d+',\n",
    "    'access_total': 'system.ruby.l2_cntrl\\d+.L2cache.m_demand_accesses\\s+\\d+',\n",
    "}\n",
    "\n",
    "prune_map = {\n",
    "    'runtime': lambda line: float(line.replace(' ','').split('simTicks')[-1].split('#')[0]),\n",
    "    'network_lat': lambda line: float(line.replace(' ','').split('system.ruby.network.average_packet_network_latency')[-1].split('(')[0]),\n",
    "    'inst': lambda line: float(line.replace(' ','').split('simInsts')[-1].split('#')[0]),\n",
    "    'miss_stale': lambda line: int(line.replace(' ','').split('m_fwd_issued')[-1].split('#')[0]),\n",
    "    'miss_total': lambda line: int(line.replace(' ','').split('m_demand_misses')[-1].split('#')[0]),\n",
    "    'hit_total': lambda line: int(line.replace(' ','').split('m_demand_hits')[-1].split('#')[0]),\n",
    "    'access_total': lambda line: int(line.replace(' ','').split('m_demand_accesses')[-1].split('#')[0]),\n",
    "}"
   ]
  },
  {
   "cell_type": "code",
   "execution_count": 2,
   "id": "c8a4cb61",
   "metadata": {},
   "outputs": [],
   "source": [
    "import plotly.io as pio\n",
    "pio.renderers.default = \"browser\""
   ]
  },
  {
   "cell_type": "code",
   "execution_count": 3,
   "id": "59ca200f",
   "metadata": {},
   "outputs": [],
   "source": [
    "outdir=[\\\n",
    "    '../my_STATS/base/blackscholes_simsmall_64_4/stats.txt', \\\n",
    "    '../my_STATS/base/blackscholes_simlarge_64_4/stats.txt', \\\n",
    "    '../my_STATS/base/bodytrack_simsmall_64_4/stats.txt', \\\n",
    "    '../my_STATS/base/canneal_simsmall_64_4/stats.txt', \\\n",
    "    '../my_STATS/base/dedup_simsmall_64_4/stats.txt', \\\n",
    "    # '../my_STATS/base/facesim_simsmall_64_4/stats.txt', \\\n",
    "    '../my_STATS/base/ferret_simsmall_64_4/stats.txt', \\\n",
    "    '../my_STATS/base/fluidanimate_simsmall_64_4/stats.txt', \\\n",
    "    '../my_STATS/base/freqmine_simsmall_64_4/stats.txt', \\\n",
    "    '../my_STATS/base/raytrace_simsmall_64_4/stats.txt', \\\n",
    "    # '../my_STATS/base/streamcluster_simsmall_64_4/stats.txt', \\\n",
    "\n",
    "    # '../my_STATS/base/swaptions_simsmall_64_4/stats.txt', \\\n",
    "    # '../my_STATS/base/vips_simsmall_64_4/stats.txt', \\\n",
    "    # '../my_STATS/base/x264_simsmall_64_4/stats.txt', \\\n",
    "\n",
    "    ]"
   ]
  },
  {
   "cell_type": "code",
   "execution_count": 4,
   "id": "69ecda2f",
   "metadata": {},
   "outputs": [],
   "source": [
    "def get_list(file, metric):\n",
    "    pattern = pattern_map[metric]\n",
    "\n",
    "    list_ = []\n",
    "    with open(file, 'r') as searchfile:\n",
    "        for line in searchfile:\n",
    "            if re.match(pattern, line):\n",
    "                prune_func = prune_map[metric]\n",
    "                res = prune_func(line)\n",
    "                list_.append(res)\n",
    "    # print(list_)\n",
    "    return list_"
   ]
  },
  {
   "cell_type": "code",
   "execution_count": 5,
   "id": "8480c323",
   "metadata": {},
   "outputs": [
    {
     "name": "stdout",
     "output_type": "stream",
     "text": [
      "benchmarks=['blackscholes_simsmall', 'blackscholes_simlarge', 'bodytrack_simsmall', 'canneal_simsmall', 'dedup_simsmall', 'ferret_simsmall', 'fluidanimate_simsmall', 'freqmine_simsmall', 'raytrace_simsmall']\n"
     ]
    }
   ],
   "source": [
    "o_arr = [o.split('/')[3].split('_64')[0] for o in outdir]\n",
    "print(f'benchmarks={o_arr}')"
   ]
  },
  {
   "cell_type": "code",
   "execution_count": 6,
   "id": "fdf11f95",
   "metadata": {},
   "outputs": [],
   "source": [
    "metric = 'miss_stale'\n",
    "miss_stale_l = [get_list(o, metric) for o in outdir if '_4' in o]\n",
    "# print(f'miss stale list ={miss_stale_l}\\n')\n",
    "\n",
    "metric = 'miss_total'\n",
    "miss_total_l = [get_list(o, metric) for o in outdir if '_4' in o]\n",
    "# print(f'miss total list ={miss_total_l}\\n')\n",
    "\n",
    "miss_np_l = [[t-s for t,s in zip(t_l, s_l)] for t_l,s_l in zip(miss_total_l, miss_stale_l)]\n",
    "# print(f'miss not present list ={miss_np_l}\\n')\n",
    "\n",
    "metric = 'hit_total'\n",
    "hit_total_l = [get_list(o, metric) for o in outdir if '_4' in o]\n",
    "# print(f'hit total list ={hit_total_l}\\n')\n",
    "\n",
    "metric = 'access_total'\n",
    "access_total_l = [get_list(o, metric) for o in outdir if '_4' in o]\n",
    "# print(f'access total list ={access_total_l}\\n')"
   ]
  },
  {
   "cell_type": "code",
   "execution_count": 7,
   "id": "239f79e7",
   "metadata": {},
   "outputs": [],
   "source": [
    "# miss_s_percent = [[float(s/a*100) for a,s in zip(a_l, s_l)] for a_l,s_l in zip(access_total_l, miss_stale_l)]\n",
    "# miss_s_gm = [gmean(l) for l in miss_s_percent]\n",
    "# print(f'miss stale percent ={miss_s_percent}, gm={miss_s_gm}\\n')\n",
    "\n",
    "# miss_np_percent = [[float(np/a*100) for a,np in zip(a_l, np_l)] for a_l,np_l in zip(access_total_l, miss_np_l)]\n",
    "# miss_np_gm = [gmean(l) for l in miss_np_percent]\n",
    "# print(f'miss not present percent ={miss_np_percent}, gm={miss_np_gm}\\n')\n",
    "\n",
    "# hit_percent = [[float(h/a*100) for a,h in zip(a_l, h_l)] for a_l,h_l in zip(access_total_l, hit_total_l)]\n",
    "# hit_gm = [gmean(l) for l in hit_percent]\n",
    "# print(f'hit percent ={hit_percent}, gm={hit_gm}\\n')"
   ]
  },
  {
   "cell_type": "code",
   "execution_count": 8,
   "id": "59bf34da",
   "metadata": {},
   "outputs": [],
   "source": [
    "miss_s = [sum(l) for l in miss_stale_l]\n",
    "# print(f'total miss stale across cores={miss_s}')\n",
    "\n",
    "miss_np = [sum(l) for l in miss_np_l]\n",
    "# print(f'total miss np across cores={miss_np}')\n",
    "\n",
    "hit = [sum(l) for l in hit_total_l]\n",
    "# print(f'total hit across cores={hit}')\n",
    "\n",
    "access = [sum(l) for l in access_total_l]\n",
    "# print(f'total access across cores={access}')"
   ]
  },
  {
   "cell_type": "code",
   "execution_count": 9,
   "id": "e3afcb9e",
   "metadata": {},
   "outputs": [
    {
     "name": "stdout",
     "output_type": "stream",
     "text": [
      "miss_s=[13.694579017159661, 7.035837713821044, 2.0739250741607984, 9.3108010305474, 5.743068060420702, 3.094852495119144, 21.448094879475335, 1.2530163716211544, 4.145657590585692]\n",
      "miss_np=[20.170152428216944, 35.39104928411698, 2.8251796471719692, 15.326240594485615, 10.644029528458898, 14.88326672947582, 8.235122541992864, 54.943516872351275, 37.57293386569001]\n",
      "hit=[66.1352685546234, 57.57311300206197, 95.10089527866722, 75.36295837496698, 83.6129024111204, 82.02188077540504, 70.3167825785318, 43.80346675602757, 58.2814085437243]\n"
     ]
    }
   ],
   "source": [
    "miss_s_percent = [float(part/total)*100 for part, total in zip(miss_s, access)]\n",
    "miss_np_percent = [float(part/total)*100 for part, total in zip(miss_np, access)]\n",
    "hit_percent = [float(part/total)*100 for part, total in zip(hit, access)]\n",
    "print(f'miss_s={miss_s_percent}\\nmiss_np={miss_np_percent}\\nhit={hit_percent}')\n",
    "\n",
    "miss_s_gm = gmean(miss_s_percent)\n",
    "miss_np_gm = gmean(miss_np_percent)\n",
    "hit_gm = gmean(hit_percent)\n"
   ]
  },
  {
   "cell_type": "code",
   "execution_count": 10,
   "id": "8d5d0468",
   "metadata": {},
   "outputs": [
    {
     "name": "stdout",
     "output_type": "stream",
     "text": [
      "\n",
      "=== summary ===\n",
      "miss stale gm=5.365329276388155\n",
      "miss np gm=16.344523150278018\n",
      "hit gm=68.5890995737395\n"
     ]
    }
   ],
   "source": [
    "print(f'\\n=== summary ===')\n",
    "print(f'miss stale gm={miss_s_gm}')\n",
    "print(f'miss np gm={miss_np_gm}')\n",
    "print(f'hit gm={hit_gm}')"
   ]
  },
  {
   "cell_type": "code",
   "execution_count": 11,
   "id": "f13b42b4",
   "metadata": {},
   "outputs": [],
   "source": [
    "o_arr.append('geomean')\n",
    "miss_s_percent.append(miss_s_gm)\n",
    "miss_np_percent.append(miss_np_gm)\n",
    "hit_percent.append(hit_gm)"
   ]
  },
  {
   "cell_type": "code",
   "execution_count": 12,
   "id": "975d893d",
   "metadata": {},
   "outputs": [],
   "source": [
    "import plotly.graph_objects as go\n",
    "\n",
    "fig = go.Figure(data=[\n",
    "    go.Bar(name='miss_state', x=o_arr, y=miss_s_percent),\n",
    "    go.Bar(name='miss_notPresent', x=o_arr, y=miss_np_percent),\n",
    "    go.Bar(name='hit', x=o_arr, y=hit_percent),\n",
    "])\n",
    "# Change the bar mode\n",
    "fig.update_layout(barmode='stack')\n",
    "fig.update_layout(title_text='LLC Access; misses due to stale triggers fwd message generation in MESI')\n",
    "fig.show()"
   ]
  },
  {
   "cell_type": "code",
   "execution_count": null,
   "id": "7fad26c9",
   "metadata": {},
   "outputs": [],
   "source": []
  }
 ],
 "metadata": {
  "kernelspec": {
   "display_name": "Python 3 (ipykernel)",
   "language": "python",
   "name": "python3"
  },
  "language_info": {
   "codemirror_mode": {
    "name": "ipython",
    "version": 3
   },
   "file_extension": ".py",
   "mimetype": "text/x-python",
   "name": "python",
   "nbconvert_exporter": "python",
   "pygments_lexer": "ipython3",
   "version": "3.8.10"
  }
 },
 "nbformat": 4,
 "nbformat_minor": 5
}
