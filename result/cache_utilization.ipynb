{
 "cells": [
  {
   "cell_type": "code",
   "execution_count": 41,
   "id": "78786311",
   "metadata": {},
   "outputs": [],
   "source": [
    "import plotly.express as px\n",
    "import re\n",
    "import plotly.io as pio\n",
    "# pio.renderers.default = \"browser\"\n",
    "from collections import OrderedDict\n",
    "import argparse\n",
    "from scipy.stats import gmean\n",
    "import numpy as np\n",
    "import plotly.graph_objects as go\n",
    "import plotly.figure_factory as ff"
   ]
  },
  {
   "cell_type": "code",
   "execution_count": 68,
   "id": "fc1bacaa",
   "metadata": {},
   "outputs": [],
   "source": [
    "from util import to_matrix"
   ]
  },
  {
   "cell_type": "code",
   "execution_count": null,
   "id": "c96f8362",
   "metadata": {},
   "outputs": [],
   "source": [
    "time_str = '20220720141500'\n",
    "bench = ['blackscholes',\\\n",
    "         'bodytrack', \\\n",
    "         'fluidanimate', \\\n",
    "         'raytrace' , \\\n",
    "         'swaptions', \\\n",
    "        ]\n",
    "sim_str = 'simlarge'\n",
    "config = [5]\n",
    "outdir_hist = [f'{time_str}/{b}_{sim_str}_64_{c}/stats.txt' for b in bench for c in config ]\n",
    "id_str = '_5'\n",
    "outdir_hist"
   ]
  },
  {
   "cell_type": "code",
   "execution_count": 71,
   "id": "3d0e1fc9",
   "metadata": {},
   "outputs": [
    {
     "data": {
      "text/plain": [
       "['20220806185100/set1_sync2_c64_0/stats.txt']"
      ]
     },
     "execution_count": 71,
     "metadata": {},
     "output_type": "execute_result"
    }
   ],
   "source": [
    "time_str = '20220806185100'\n",
    "set__ = [1]\n",
    "sync = [2]\n",
    "outdir_hist = [f'{time_str}/set{set_}_sync{sync_}_c64_0/stats.txt' for set_ in set__ for sync_ in sync ]\n",
    "outdir_hist"
   ]
  },
  {
   "cell_type": "code",
   "execution_count": 43,
   "id": "6a3e32ea",
   "metadata": {},
   "outputs": [],
   "source": [
    "pattern_map = {\n",
    "    # stack distance\n",
    "    'l1w': 'system.ruby.l1_cntrl\\d+.cache.writeLinearHist::0-31\\s+',\n",
    "    'l1r': 'system.ruby.l1_cntrl\\d+.cache.readLinearHist::0-31\\s+',\n",
    "    'l2r': 'system.ruby.l2_cntrl\\d+.L2cache.readLinearHist::0-31\\s+',\n",
    "    'l2w': 'system.ruby.l2_cntrl\\d+.L2cache.writeLinearHist::0-31\\s+',\n",
    "    'l2_t': 'system.ruby.l2_cntrl\\d+.L2cache.m_demand_accesses\\s+\\d+',\n",
    "    'l2_inf': 'system.ruby.l2_cntrl\\d+.L2cache.infiniteSD\\s+\\d+',\n",
    "    'l1_t': 'system.ruby.l1_cntrl\\d+.cache.m_demand_misses\\s+\\d+',\n",
    "    'l1_inf': 'system.ruby.l1_cntrl\\d+.cache.infiniteSD\\s+\\d+',\n",
    "    'l1w1': 'system.ruby.l1_cntrl\\d+.cache.writeLinearHist::32-63\\s+',\n",
    "    'l1r1': 'system.ruby.l1_cntrl\\d+.cache.readLinearHist::32-63\\s+',\n",
    "    'l2r1': 'system.ruby.l2_cntrl\\d+.L2cache.readLinearHist::32-63\\s+',\n",
    "    'l2w1': 'system.ruby.l2_cntrl\\d+.L2cache.writeLinearHist::32-63\\s+',\n",
    "    # cache util\n",
    "    'l2_access': 'system.ruby.l2_cntrl\\d+.L2cache.m_demand_accesses\\s+\\d+',\n",
    "    'l1_access': 'system.ruby.l1_cntrl\\d+.cache.m_demand_accesses\\s+\\d+',\n",
    "    'l2_miss': 'system.ruby.l2_cntrl\\d+.L2cache.m_demand_misses\\s+\\d+',\n",
    "    'l1_miss': 'system.ruby.l1_cntrl\\d+.cache.m_demand_misses\\s+\\d+',\n",
    "    \n",
    "}\n",
    "\n",
    "prune_map = {\n",
    "    # stack distance\n",
    "    'l2r': lambda line: int(re.sub('system.ruby.l2_cntrl\\d+.L2cache.readLinearHist::0-31\\s+', '',\\\n",
    "                                   re.sub('[+-]?([0-9]*[.])?[0-9]+%', '', line)).replace(' ','').split('#')[0]),\n",
    "    'l2w': lambda line: int(re.sub('system.ruby.l2_cntrl\\d+.L2cache.writeLinearHist::0-31\\s+', '',\\\n",
    "                                   re.sub('[+-]?([0-9]*[.])?[0-9]+%', '', line)).replace(' ','').split('#')[0]),\n",
    "    'l1r': lambda line: int(re.sub('system.ruby.l1_cntrl\\d+.cache.readLinearHist::0-31\\s+', '',\\\n",
    "                                   re.sub('[+-]?([0-9]*[.])?[0-9]+%', '', line)).replace(' ','').split('#')[0]),\n",
    "    'l1w': lambda line: int(re.sub('system.ruby.l1_cntrl\\d+.cache.writeLinearHist::0-31\\s+', '',\\\n",
    "                                   re.sub('[+-]?([0-9]*[.])?[0-9]+%', '', line)).replace(' ','').split('#')[0]),\n",
    "    'l2_t': lambda line: int(line.replace(' ','').split('demand_accesses')[-1].split('#')[0]),\n",
    "    'l2_inf': lambda line: int(line.replace(' ','').split('infiniteSD')[-1].split('#')[0].split('(')[0]),\n",
    "    'l1_t': lambda line: int(line.replace(' ','').split('demand_misses')[-1].split('#')[0]),\n",
    "    'l1_inf': lambda line: int(line.replace(' ','').split('infiniteSD')[-1].split('#')[0].split('(')[0]),\n",
    "    'l2r1': lambda line: int(re.sub('system.ruby.l2_cntrl\\d+.L2cache.readLinearHist::32-63\\s+', '',\\\n",
    "                                   re.sub('[+-]?([0-9]*[.])?[0-9]+%', '', line)).replace(' ','').split('#')[0]),\n",
    "    'l2w1': lambda line: int(re.sub('system.ruby.l2_cntrl\\d+.L2cache.writeLinearHist::32-63\\s+', '',\\\n",
    "                                   re.sub('[+-]?([0-9]*[.])?[0-9]+%', '', line)).replace(' ','').split('#')[0]),\n",
    "    'l1r1': lambda line: int(re.sub('system.ruby.l1_cntrl\\d+.cache.readLinearHist::32-63\\s+', '',\\\n",
    "                                   re.sub('[+-]?([0-9]*[.])?[0-9]+%', '', line)).replace(' ','').split('#')[0]),\n",
    "    'l1w1': lambda line: int(re.sub('system.ruby.l1_cntrl\\d+.cache.writeLinearHist::32-63\\s+', '',\\\n",
    "                                   re.sub('[+-]?([0-9]*[.])?[0-9]+%', '', line)).replace(' ','').split('#')[0]),\n",
    "    # cache util\n",
    "    'l2_access': lambda line: int(line.replace(' ','').split('demand_accesses')[-1].split('#')[0]),\n",
    "    'l1_access': lambda line: int(line.replace(' ','').split('demand_accesses')[-1].split('#')[0]),\n",
    "    'l2_miss': lambda line: int(line.replace(' ','').split('demand_misses')[-1].split('#')[0]),\n",
    "    'l1_miss': lambda line: int(line.replace(' ','').split('demand_misses')[-1].split('#')[0]),\n",
    "}"
   ]
  },
  {
   "cell_type": "code",
   "execution_count": 44,
   "id": "b1d621ba",
   "metadata": {},
   "outputs": [],
   "source": [
    "def get_list(file, metric):\n",
    "    pattern = pattern_map[metric]\n",
    "\n",
    "    list_ = []\n",
    "    with open(file, 'r') as searchfile:\n",
    "        for line in searchfile:\n",
    "            if re.match(pattern, line):\n",
    "                prune_func = prune_map[metric]\n",
    "                res = prune_func(line)\n",
    "                list_.append(res)\n",
    "    # print(list_)\n",
    "    return list_"
   ]
  },
  {
   "cell_type": "code",
   "execution_count": 45,
   "id": "5d022e2b",
   "metadata": {},
   "outputs": [],
   "source": [
    "def to_matrix(l, n):\n",
    "    return [l[i:i+n] for i in range(0, len(l), n)]"
   ]
  },
  {
   "cell_type": "code",
   "execution_count": 62,
   "id": "4c3bdf98",
   "metadata": {},
   "outputs": [],
   "source": [
    "metric = 'l1_access'\n",
    "l1_access_arrs_ = [get_list(o, metric) for o in outdir_hist if id_str in o]\n",
    "l1_access_sum = [sum(arr) for arr in l1_access_arrs_]\n",
    "l1_access_arrs = [[float(a/sum_*100) for a in access_arr] \\\n",
    "              for access_arr, sum_ in zip(l1_access_arrs_, l1_access_sum)]\n",
    "metric = 'l2_access'\n",
    "l2_access_arrs_ = [get_list(o, metric) for o in outdir_hist if id_str in o]\n",
    "l2_access_sum = [sum(arr) for arr in l2_access_arrs_]\n",
    "l2_access_arrs = [[float(a/sum_*100) for a in access_arr] \\\n",
    "              for access_arr, sum_ in zip(l2_access_arrs_, l2_access_sum)]\n",
    "\n",
    "metric = 'l1_miss'\n",
    "l1_miss_arrs = [get_list(o, metric) for o in outdir_hist if id_str in o]\n",
    "metric = 'l2_miss'\n",
    "l2_miss_arrs = [get_list(o, metric) for o in outdir_hist if id_str in o]\n",
    "\n",
    "l1_mr_arrs = [[round(float(m/a*100),1) for m, a in zip(miss_arr, access_arr)] \\\n",
    "              for miss_arr, access_arr in zip(l1_miss_arrs, l1_access_arrs_)]\n",
    "l2_mr_arrs = [[round(float(m/a*100),1) for m, a in zip(miss_arr, access_arr)] \\\n",
    "              for miss_arr, access_arr in zip(l2_miss_arrs, l2_access_arrs_)]\n"
   ]
  },
  {
   "cell_type": "markdown",
   "id": "48e21675",
   "metadata": {},
   "source": [
    "# run following cell to plot access heatmap"
   ]
  },
  {
   "cell_type": "code",
   "execution_count": 64,
   "id": "4e426262",
   "metadata": {},
   "outputs": [],
   "source": [
    "\n",
    "l1_std = []\n",
    "l2_std = []\n",
    "for l1_arr, l2_arr, l1_anno_arr, l2_anno_arr, name in \\\n",
    "    zip(l1_access_arrs, l2_access_arrs, l1_mr_arrs, l2_mr_arrs, bench):\n",
    "    \n",
    "    l1_matrix = to_matrix(l1_arr, 8)\n",
    "    l2_matrix = to_matrix(l2_arr, 8)\n",
    "    \n",
    "    l1_anno_matrix = to_matrix(l1_anno_arr, 8)\n",
    "    l2_anno_matrix = to_matrix(l2_anno_arr, 8)\n",
    "    \n",
    "    # l1 heatmap\n",
    "    fig = px.imshow(l1_matrix,\n",
    "                labels=dict(x=\"annotated with miss rate\", y=\"\", color= \"l1 demand accesses\"),\n",
    "               )\n",
    "\n",
    "    l1_std_ = np.std(l1_arr)\n",
    "    l1_std.append(l1_std_)\n",
    "    \n",
    "    fig.update_layout(\n",
    "        title=f\"{name}: std={l1_std_}\",\n",
    "    )\n",
    "    fig.update_traces(text=l1_anno_matrix, texttemplate=\"%{text}\")\n",
    "    fig.show()\n",
    "    \n",
    "    # l2 heatmap\n",
    "    fig = px.imshow(l2_matrix,\n",
    "                labels=dict(x=\"annotated with miss rate\", y=\"\", color=f\"l2 demand accesses\"),\n",
    "               )\n",
    "    l2_std_ = np.std(l2_arr)\n",
    "    l2_std.append(l2_std_)\n",
    "    fig.update_layout(\n",
    "        title=f\"{name}: std={l2_std_}\",\n",
    "    )\n",
    "    fig.update_traces(text=l2_anno_matrix, texttemplate=\"%{text}\")\n",
    "    fig.show()\n"
   ]
  },
  {
   "cell_type": "code",
   "execution_count": 65,
   "id": "02cc1522",
   "metadata": {},
   "outputs": [
    {
     "name": "stdout",
     "output_type": "stream",
     "text": [
      "['blackscholes', 'bodytrack', 'fluidanimate', 'raytrace', 'swaptions']\n",
      "[1.3996095514359947, 0.41264608445213324, 0.15396617432179, 0.2088178144345568, 0.061237125438426014]\n",
      "[1.1248640775486092, 0.24682761003160483, 0.34495788787349624, 0.24997540556610023, 1.6779502332938]\n"
     ]
    }
   ],
   "source": [
    "print(bench)\n",
    "print(l1_std)\n",
    "print(l2_std)"
   ]
  },
  {
   "cell_type": "markdown",
   "id": "5cb8ac2b",
   "metadata": {},
   "source": [
    "# # cache accesses\n",
    "- for bodytrack and swaptions, highly nonuniform.\n",
    "- frequently access does not map directly to high/low miss rate. miss rate has to do more with access pattern."
   ]
  },
  {
   "cell_type": "code",
   "execution_count": 51,
   "id": "c0f45355",
   "metadata": {},
   "outputs": [],
   "source": [
    "metric = 'l1_inf'\n",
    "l1_inf = [get_list(o, metric) for o in outdir_hist if id_str in o]\n",
    "metric = 'l2_inf'\n",
    "l2_inf = [get_list(o, metric) for o in outdir_hist if id_str in o]\n",
    "\n",
    "l1_line_util_arrs = [[float((a-i)/a)*100 for i, a in zip(inf_arr, access_arr)] \\\n",
    "              for inf_arr, access_arr in zip(l1_inf, l1_access_arrs)]\n",
    "l2_line_util_arrs = [[float((a-i)/a)*100 for i, a in zip(inf_arr, access_arr)] \\\n",
    "              for inf_arr, access_arr in zip(l2_inf, l2_access_arrs)]"
   ]
  },
  {
   "cell_type": "markdown",
   "id": "7413075d",
   "metadata": {},
   "source": [
    "# run following cell to plot line util heat map"
   ]
  },
  {
   "cell_type": "code",
   "execution_count": 69,
   "id": "335dcb02",
   "metadata": {},
   "outputs": [],
   "source": [
    "\n",
    "l1_std_lineutil = []\n",
    "l2_std_lineutil = []\n",
    "for l1_arr, l2_arr, l1_anno_arr, l2_anno_arr, name in \\\n",
    "    zip(l1_line_util_arrs, l2_line_util_arrs, l1_mr_arrs, l2_mr_arrs, bench):\n",
    "    \n",
    "    l1_matrix = to_matrix(l1_arr, 8)\n",
    "    l2_matrix = to_matrix(l2_arr, 8)\n",
    "    \n",
    "    l1_anno_matrix = to_matrix(l1_anno_arr, 8)\n",
    "    l2_anno_matrix = to_matrix(l2_anno_arr, 8)\n",
    "    \n",
    "    # l1 heatmap\n",
    "    fig = px.imshow(l1_matrix,\n",
    "                labels=dict(x=\"\", y=\"\", color= \"l1 line util %\"),\n",
    "               )\n",
    "\n",
    "    l1_std_ = np.std(l1_arr)\n",
    "    l1_std_lineutil.append(l1_std_)\n",
    "    \n",
    "    fig.update_layout(\n",
    "        title=f\"{name}: std={l1_std_}\",\n",
    "    )\n",
    "#     fig.update_traces(text=l1_anno_matrix, texttemplate=\"%{text}\")\n",
    "    fig.show()\n",
    "    \n",
    "    # l2 heatmap\n",
    "    fig = px.imshow(l2_matrix,\n",
    "                labels=dict(x=\"\", y=\"\", color=f\"l1 line util %\"),\n",
    "               )\n",
    "    l2_std_ = np.std(l2_arr)\n",
    "    l2_std_lineutil.append(l2_std_)\n",
    "    fig.update_layout(\n",
    "        title=f\"{name}: std={l2_std_}\",\n",
    "    )\n",
    "#     fig.update_traces(text=l2_anno_matrix, texttemplate=\"%{text}\")\n",
    "    fig.show()"
   ]
  },
  {
   "cell_type": "code",
   "execution_count": 58,
   "id": "d58b3543",
   "metadata": {},
   "outputs": [
    {
     "name": "stdout",
     "output_type": "stream",
     "text": [
      "['blackscholes', 'bodytrack', 'fluidanimate', 'raytrace', 'swaptions']\n",
      "[2.8222154547184672, 1.224033485198342, 1.067336750601972, 6.625393695050829, 1.5019044276293063]\n",
      "[9.224185392117398, 0.04557039656959363, 1.6207224075600786, 3.7620925550732736, 13.85079088896181]\n"
     ]
    }
   ],
   "source": [
    "print(bench)\n",
    "print(l1_std_lineutil)\n",
    "print(l2_std_lineutil)"
   ]
  },
  {
   "cell_type": "code",
   "execution_count": null,
   "id": "ac21aec5",
   "metadata": {},
   "outputs": [],
   "source": []
  }
 ],
 "metadata": {
  "kernelspec": {
   "display_name": "Python 3 (ipykernel)",
   "language": "python",
   "name": "python3"
  },
  "language_info": {
   "codemirror_mode": {
    "name": "ipython",
    "version": 3
   },
   "file_extension": ".py",
   "mimetype": "text/x-python",
   "name": "python",
   "nbconvert_exporter": "python",
   "pygments_lexer": "ipython3",
   "version": "3.8.10"
  }
 },
 "nbformat": 4,
 "nbformat_minor": 5
}
