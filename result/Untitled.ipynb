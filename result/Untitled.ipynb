{
 "cells": [
  {
   "cell_type": "code",
   "execution_count": 1,
   "id": "6a67dd63",
   "metadata": {},
   "outputs": [],
   "source": [
    "import plotly.express as px\n",
    "import re\n",
    "import plotly.io as pio\n",
    "pio.renderers.default = \"browser\"\n",
    "from collections import OrderedDict\n",
    "import argparse\n",
    "from scipy.stats import gmean\n",
    "import numpy as np\n",
    "import plotly.graph_objects as go\n",
    "import plotly.figure_factory as ff\n",
    "from util import to_matrix"
   ]
  },
  {
   "cell_type": "code",
   "execution_count": 2,
   "id": "d87225ab",
   "metadata": {},
   "outputs": [
    {
     "data": {
      "text/plain": [
       "['20220720141500/blackscholes_simlarge_64_5/stats.txt',\n",
       " '20220720141500/bodytrack_simlarge_64_5/stats.txt',\n",
       " '20220720141500/fluidanimate_simlarge_64_5/stats.txt',\n",
       " '20220720141500/raytrace_simlarge_64_5/stats.txt',\n",
       " '20220720141500/swaptions_simlarge_64_5/stats.txt']"
      ]
     },
     "execution_count": 2,
     "metadata": {},
     "output_type": "execute_result"
    }
   ],
   "source": [
    "time_str = '20220720141500'\n",
    "bench = ['blackscholes',\\\n",
    "        'bodytrack', \\\n",
    "#          'canneal', \\\n",
    "#          'dedup', \\\n",
    "         'fluidanimate', \\\n",
    "         'raytrace' , \\\n",
    "         'swaptions', \\\n",
    "        ]\n",
    "sim_str = 'simlarge'\n",
    "config = [5]\n",
    "outdir_hist = [f'{time_str}/{b}_{sim_str}_64_{c}/stats.txt' for b in bench for c in config ]\n",
    "outdir_hist"
   ]
  },
  {
   "cell_type": "code",
   "execution_count": 3,
   "id": "45686934",
   "metadata": {},
   "outputs": [],
   "source": [
    "pattern_map = {\n",
    "    'l1w': 'system.ruby.l1_cntrl\\d+.cache.writeLinearHist::0-31\\s+',\n",
    "    'l1r': 'system.ruby.l1_cntrl\\d+.cache.readLinearHist::0-31\\s+',\n",
    "    'l2r': 'system.ruby.l2_cntrl\\d+.L2cache.readLinearHist::0-31\\s+',\n",
    "    'l2w': 'system.ruby.l2_cntrl\\d+.L2cache.writeLinearHist::0-31\\s+',\n",
    "    'l2_t': 'system.ruby.l2_cntrl\\d+.L2cache.m_demand_accesses\\s+\\d+',\n",
    "    'l2_inf': 'system.ruby.l2_cntrl\\d+.L2cache.infiniteSD\\s+\\d+',\n",
    "    'l1_t': 'system.ruby.l1_cntrl\\d+.cache.m_demand_misses\\s+\\d+',\n",
    "    'l1_inf': 'system.ruby.l1_cntrl\\d+.cache.infiniteSD\\s+\\d+',\n",
    "    'l1w1': 'system.ruby.l1_cntrl\\d+.cache.writeLinearHist::32-63\\s+',\n",
    "    'l1r1': 'system.ruby.l1_cntrl\\d+.cache.readLinearHist::32-63\\s+',\n",
    "    'l2r1': 'system.ruby.l2_cntrl\\d+.L2cache.readLinearHist::32-63\\s+',\n",
    "    'l2w1': 'system.ruby.l2_cntrl\\d+.L2cache.writeLinearHist::32-63\\s+',\n",
    "}\n",
    "\n",
    "prune_map = {\n",
    "    'l2r': lambda line: int(re.sub('system.ruby.l2_cntrl\\d+.L2cache.readLinearHist::0-31\\s+', '',\\\n",
    "                                   re.sub('[+-]?([0-9]*[.])?[0-9]+%', '', line)).replace(' ','').split('#')[0]),\n",
    "    'l2w': lambda line: int(re.sub('system.ruby.l2_cntrl\\d+.L2cache.writeLinearHist::0-31\\s+', '',\\\n",
    "                                   re.sub('[+-]?([0-9]*[.])?[0-9]+%', '', line)).replace(' ','').split('#')[0]),\n",
    "    'l1r': lambda line: int(re.sub('system.ruby.l1_cntrl\\d+.cache.readLinearHist::0-31\\s+', '',\\\n",
    "                                   re.sub('[+-]?([0-9]*[.])?[0-9]+%', '', line)).replace(' ','').split('#')[0]),\n",
    "    'l1w': lambda line: int(re.sub('system.ruby.l1_cntrl\\d+.cache.writeLinearHist::0-31\\s+', '',\\\n",
    "                                   re.sub('[+-]?([0-9]*[.])?[0-9]+%', '', line)).replace(' ','').split('#')[0]),\n",
    "    'l2_t': lambda line: int(line.replace(' ','').split('demand_accesses')[-1].split('#')[0]),\n",
    "    'l2_inf': lambda line: int(line.replace(' ','').split('infiniteSD')[-1].split('#')[0].split('(')[0]),\n",
    "    'l1_t': lambda line: int(line.replace(' ','').split('demand_misses')[-1].split('#')[0]),\n",
    "    'l1_inf': lambda line: int(line.replace(' ','').split('infiniteSD')[-1].split('#')[0].split('(')[0]),\n",
    "    'l2r1': lambda line: int(re.sub('system.ruby.l2_cntrl\\d+.L2cache.readLinearHist::32-63\\s+', '',\\\n",
    "                                   re.sub('[+-]?([0-9]*[.])?[0-9]+%', '', line)).replace(' ','').split('#')[0]),\n",
    "    'l2w1': lambda line: int(re.sub('system.ruby.l2_cntrl\\d+.L2cache.writeLinearHist::32-63\\s+', '',\\\n",
    "                                   re.sub('[+-]?([0-9]*[.])?[0-9]+%', '', line)).replace(' ','').split('#')[0]),\n",
    "    'l1r1': lambda line: int(re.sub('system.ruby.l1_cntrl\\d+.cache.readLinearHist::32-63\\s+', '',\\\n",
    "                                   re.sub('[+-]?([0-9]*[.])?[0-9]+%', '', line)).replace(' ','').split('#')[0]),\n",
    "    'l1w1': lambda line: int(re.sub('system.ruby.l1_cntrl\\d+.cache.writeLinearHist::32-63\\s+', '',\\\n",
    "                                   re.sub('[+-]?([0-9]*[.])?[0-9]+%', '', line)).replace(' ','').split('#')[0]),\n",
    "}"
   ]
  },
  {
   "cell_type": "code",
   "execution_count": 4,
   "id": "a335a8a3",
   "metadata": {},
   "outputs": [],
   "source": [
    "def get_list(file, metric):\n",
    "    pattern = pattern_map[metric]\n",
    "\n",
    "    list_ = []\n",
    "    with open(file, 'r') as searchfile:\n",
    "        for line in searchfile:\n",
    "            if re.match(pattern, line):\n",
    "                prune_func = prune_map[metric]\n",
    "                res = prune_func(line)\n",
    "                list_.append(res)\n",
    "    # print(list_)\n",
    "    return list_"
   ]
  },
  {
   "cell_type": "code",
   "execution_count": 5,
   "id": "3af0a75d",
   "metadata": {},
   "outputs": [
    {
     "data": {
      "text/plain": [
       "[688660, 108507794, 25288051, 9000018, 14458914]"
      ]
     },
     "execution_count": 5,
     "metadata": {},
     "output_type": "execute_result"
    }
   ],
   "source": [
    "metric = 'l1_t'\n",
    "l1_t = [get_list(o, metric) for o in outdir_hist if '_5' in o]\n",
    "# print(f'sd_t ={sd_t}')\n",
    "l1_t_sum = [sum(arr) for arr in l1_t]\n",
    "l1_t_sum\n",
    "\n"
   ]
  },
  {
   "cell_type": "code",
   "execution_count": 6,
   "id": "46af791d",
   "metadata": {},
   "outputs": [
    {
     "data": {
      "text/plain": [
       "[4.484651351900793,\n",
       " 0.3731280353925544,\n",
       " 1.8519537152151426,\n",
       " 0.2683994632010736,\n",
       " 1.4041441839961148]"
      ]
     },
     "execution_count": 6,
     "metadata": {},
     "output_type": "execute_result"
    }
   ],
   "source": [
    "metric = 'l1r'\n",
    "l1r = [get_list(o, metric) for o in outdir_hist if '_5' in o]\n",
    "assert len(l1r[0]) == 64\n",
    "# sd_rd_0_pc = [[float(ii/tt)*100 for ii, tt in zip(i, t)] for i,t in zip(sd_rd_0, sd_t)]\n",
    "# print(f'sd_rd_0 percent ={sd_rd_0_pc}')\n",
    "l1r_sum = [sum(arr) for arr in l1r]\n",
    "l1r_mean = [float(i/t*100) for i,t in zip(l1r_sum, l1_t_sum)]\n",
    "l1r_mean"
   ]
  },
  {
   "cell_type": "code",
   "execution_count": 7,
   "id": "e8c09043",
   "metadata": {},
   "outputs": [
    {
     "data": {
      "text/plain": [
       "[3.564894142247263,\n",
       " 0.4840518645139906,\n",
       " 7.010480957982883,\n",
       " 1.230464205738255,\n",
       " 0.4314570236741155]"
      ]
     },
     "execution_count": 7,
     "metadata": {},
     "output_type": "execute_result"
    }
   ],
   "source": [
    "metric = 'l1w'\n",
    "l1w = [get_list(o, metric) for o in outdir_hist if '_5' in o]\n",
    "assert len(l1w[0]) == 64\n",
    "# sd_rd_0_pc = [[float(ii/tt)*100 for ii, tt in zip(i, t)] for i,t in zip(sd_rd_0, sd_t)]\n",
    "# print(f'sd_rd_0 percent ={sd_rd_0_pc}')\n",
    "l1w_sum = [sum(arr) for arr in l1w]\n",
    "l1w_mean = [float(i/t*100) for i,t in zip(l1w_sum, l1_t_sum)]\n",
    "l1w_mean"
   ]
  },
  {
   "cell_type": "code",
   "execution_count": 8,
   "id": "3637f6c9",
   "metadata": {},
   "outputs": [
    {
     "data": {
      "text/plain": [
       "[8.049545494148056,\n",
       " 0.857179899906545,\n",
       " 8.862434673198026,\n",
       " 1.4988636689393287,\n",
       " 1.8356012076702304]"
      ]
     },
     "execution_count": 8,
     "metadata": {},
     "output_type": "execute_result"
    }
   ],
   "source": [
    "l1_mean0 = [r+w for r,w in zip(l1r_mean, l1w_mean)]\n",
    "l1_mean0"
   ]
  },
  {
   "cell_type": "code",
   "execution_count": 9,
   "id": "bc569e0c",
   "metadata": {},
   "outputs": [
    {
     "data": {
      "text/plain": [
       "[16.333894810211135,\n",
       " 1.1428948597001243,\n",
       " 9.151768952063565,\n",
       " 1.6335633995398673,\n",
       " 5.192858882762564]"
      ]
     },
     "execution_count": 9,
     "metadata": {},
     "output_type": "execute_result"
    }
   ],
   "source": [
    "metric = 'l1r1'\n",
    "l1r1 = [get_list(o, metric) for o in outdir_hist if '_5' in o]\n",
    "assert len(l1r1[0]) == 64\n",
    "# sd_rd_0_pc = [[float(ii/tt)*100 for ii, tt in zip(i, t)] for i,t in zip(sd_rd_0, sd_t)]\n",
    "# print(f'sd_rd_0 percent ={sd_rd_0_pc}')\n",
    "l1r1_sum = [sum(arr) for arr in l1r1]\n",
    "l1r1_mean = [float(i/t*100) for i,t in zip(l1r1_sum, l1_t_sum)]\n",
    "\n",
    "\n",
    "metric = 'l1w1'\n",
    "l1w1 = [get_list(o, metric) for o in outdir_hist if '_5' in o]\n",
    "assert len(l1w1[0]) == 64\n",
    "# sd_rd_0_pc = [[float(ii/tt)*100 for ii, tt in zip(i, t)] for i,t in zip(sd_rd_0, sd_t)]\n",
    "# print(f'sd_rd_0 percent ={sd_rd_0_pc}')\n",
    "l1w1_sum = [sum(arr) for arr in l1w1]\n",
    "l1w1_mean = [float(i/t*100) for i,t in zip(l1w1_sum, l1_t_sum)]\n",
    "\n",
    "l1_mean1 = [r1+w1+r2+w2 for r1,w1,r2,w2 in zip(l1r_mean, l1w_mean,l1r1_mean, l1w1_mean)]\n",
    "l1_mean1"
   ]
  },
  {
   "cell_type": "code",
   "execution_count": 10,
   "id": "bfe617a6",
   "metadata": {},
   "outputs": [
    {
     "data": {
      "text/plain": [
       "[44.31983852699445,\n",
       " 2.054354731421413,\n",
       " 8.919857050272478,\n",
       " 71.03092460481746,\n",
       " 4.4746583318774835]"
      ]
     },
     "execution_count": 10,
     "metadata": {},
     "output_type": "execute_result"
    }
   ],
   "source": [
    "metric = 'l1_inf'\n",
    "l1inf = [get_list(o, metric) for o in outdir_hist if '_5' in o]\n",
    "assert len(l1inf[0]) == 64\n",
    "# sd_rd_0_pc = [[float(ii/tt)*100 for ii, tt in zip(i, t)] for i,t in zip(sd_rd_0, sd_t)]\n",
    "# print(f'sd_rd_0 percent ={sd_rd_0_pc}')\n",
    "l1inf_sum = [sum(arr) for arr in l1inf]\n",
    "l1inf_mean = [float(i/t*100) for i,t in zip(l1inf_sum, l1_t_sum)]\n",
    "l1inf_mean"
   ]
  },
  {
   "cell_type": "markdown",
   "id": "ad9228e1",
   "metadata": {},
   "source": [
    "## l1 low stack dist, inf stack dist"
   ]
  },
  {
   "cell_type": "code",
   "execution_count": 11,
   "id": "27564b84",
   "metadata": {},
   "outputs": [
    {
     "data": {
      "text/plain": [
       "[[273,\n",
       "  555,\n",
       "  514,\n",
       "  461,\n",
       "  219,\n",
       "  415,\n",
       "  532,\n",
       "  513,\n",
       "  330,\n",
       "  463,\n",
       "  408,\n",
       "  451,\n",
       "  494,\n",
       "  522,\n",
       "  445,\n",
       "  405,\n",
       "  330,\n",
       "  231,\n",
       "  498,\n",
       "  531,\n",
       "  492,\n",
       "  432,\n",
       "  517,\n",
       "  674,\n",
       "  523,\n",
       "  528,\n",
       "  438,\n",
       "  440,\n",
       "  303,\n",
       "  506,\n",
       "  508,\n",
       "  538,\n",
       "  505,\n",
       "  528,\n",
       "  469,\n",
       "  387,\n",
       "  439,\n",
       "  396,\n",
       "  521,\n",
       "  420,\n",
       "  481,\n",
       "  570,\n",
       "  568,\n",
       "  377,\n",
       "  551,\n",
       "  666,\n",
       "  526,\n",
       "  523,\n",
       "  482,\n",
       "  583,\n",
       "  378,\n",
       "  446,\n",
       "  318,\n",
       "  575,\n",
       "  582,\n",
       "  592,\n",
       "  578,\n",
       "  543,\n",
       "  558,\n",
       "  346,\n",
       "  571,\n",
       "  758,\n",
       "  625,\n",
       "  533],\n",
       " [2396,\n",
       "  6028,\n",
       "  5981,\n",
       "  6169,\n",
       "  6879,\n",
       "  6215,\n",
       "  6022,\n",
       "  6334,\n",
       "  6061,\n",
       "  6316,\n",
       "  6117,\n",
       "  6244,\n",
       "  8983,\n",
       "  5949,\n",
       "  6511,\n",
       "  5921,\n",
       "  6071,\n",
       "  5909,\n",
       "  6177,\n",
       "  5936,\n",
       "  6131,\n",
       "  5748,\n",
       "  6484,\n",
       "  6237,\n",
       "  6272,\n",
       "  6222,\n",
       "  5936,\n",
       "  6037,\n",
       "  5886,\n",
       "  6375,\n",
       "  6384,\n",
       "  6441,\n",
       "  6000,\n",
       "  5945,\n",
       "  6179,\n",
       "  6385,\n",
       "  6237,\n",
       "  6353,\n",
       "  6139,\n",
       "  6115,\n",
       "  6204,\n",
       "  6427,\n",
       "  6568,\n",
       "  5976,\n",
       "  6279,\n",
       "  9149,\n",
       "  6455,\n",
       "  6250,\n",
       "  6201,\n",
       "  6325,\n",
       "  6154,\n",
       "  5935,\n",
       "  5979,\n",
       "  5943,\n",
       "  6208,\n",
       "  6111,\n",
       "  7341,\n",
       "  5881,\n",
       "  6115,\n",
       "  8867,\n",
       "  8904,\n",
       "  6310,\n",
       "  6791,\n",
       "  6775],\n",
       " [10166,\n",
       "  9765,\n",
       "  7108,\n",
       "  9081,\n",
       "  9234,\n",
       "  6474,\n",
       "  5604,\n",
       "  9231,\n",
       "  6481,\n",
       "  5874,\n",
       "  8545,\n",
       "  6204,\n",
       "  8848,\n",
       "  6931,\n",
       "  6158,\n",
       "  6709,\n",
       "  6282,\n",
       "  7887,\n",
       "  6319,\n",
       "  6341,\n",
       "  6711,\n",
       "  6250,\n",
       "  6186,\n",
       "  9426,\n",
       "  7106,\n",
       "  6571,\n",
       "  7530,\n",
       "  7185,\n",
       "  7278,\n",
       "  6862,\n",
       "  7321,\n",
       "  6818,\n",
       "  5860,\n",
       "  5908,\n",
       "  10331,\n",
       "  6791,\n",
       "  6349,\n",
       "  10476,\n",
       "  6024,\n",
       "  6933,\n",
       "  5785,\n",
       "  6774,\n",
       "  6049,\n",
       "  7230,\n",
       "  6102,\n",
       "  5744,\n",
       "  6859,\n",
       "  6688,\n",
       "  6795,\n",
       "  6602,\n",
       "  8159,\n",
       "  7448,\n",
       "  7969,\n",
       "  7342,\n",
       "  7221,\n",
       "  6673,\n",
       "  9049,\n",
       "  6811,\n",
       "  6927,\n",
       "  8494,\n",
       "  9100,\n",
       "  7919,\n",
       "  9065,\n",
       "  8360],\n",
       " [270,\n",
       "  326,\n",
       "  411,\n",
       "  312,\n",
       "  461,\n",
       "  254,\n",
       "  379,\n",
       "  334,\n",
       "  397,\n",
       "  532,\n",
       "  409,\n",
       "  404,\n",
       "  337,\n",
       "  337,\n",
       "  323,\n",
       "  424,\n",
       "  311,\n",
       "  347,\n",
       "  328,\n",
       "  263,\n",
       "  519,\n",
       "  355,\n",
       "  291,\n",
       "  756,\n",
       "  421,\n",
       "  350,\n",
       "  436,\n",
       "  348,\n",
       "  338,\n",
       "  334,\n",
       "  425,\n",
       "  239,\n",
       "  448,\n",
       "  468,\n",
       "  259,\n",
       "  380,\n",
       "  341,\n",
       "  340,\n",
       "  385,\n",
       "  280,\n",
       "  339,\n",
       "  315,\n",
       "  338,\n",
       "  442,\n",
       "  328,\n",
       "  364,\n",
       "  293,\n",
       "  500,\n",
       "  319,\n",
       "  384,\n",
       "  482,\n",
       "  371,\n",
       "  345,\n",
       "  344,\n",
       "  496,\n",
       "  464,\n",
       "  368,\n",
       "  489,\n",
       "  419,\n",
       "  256,\n",
       "  347,\n",
       "  429,\n",
       "  500,\n",
       "  352],\n",
       " [463,\n",
       "  7288,\n",
       "  2504,\n",
       "  824,\n",
       "  4308,\n",
       "  784,\n",
       "  663,\n",
       "  6033,\n",
       "  452,\n",
       "  341,\n",
       "  5624,\n",
       "  862,\n",
       "  4999,\n",
       "  4958,\n",
       "  283,\n",
       "  336,\n",
       "  5426,\n",
       "  4462,\n",
       "  694,\n",
       "  663,\n",
       "  316,\n",
       "  423,\n",
       "  6766,\n",
       "  5051,\n",
       "  388,\n",
       "  3307,\n",
       "  4355,\n",
       "  5167,\n",
       "  695,\n",
       "  4599,\n",
       "  4457,\n",
       "  366,\n",
       "  3985,\n",
       "  6037,\n",
       "  845,\n",
       "  587,\n",
       "  5207,\n",
       "  1008,\n",
       "  344,\n",
       "  4149,\n",
       "  4752,\n",
       "  763,\n",
       "  5661,\n",
       "  5696,\n",
       "  730,\n",
       "  5169,\n",
       "  3402,\n",
       "  286,\n",
       "  572,\n",
       "  6602,\n",
       "  5683,\n",
       "  469,\n",
       "  6828,\n",
       "  4034,\n",
       "  5064,\n",
       "  9525,\n",
       "  4463,\n",
       "  2338,\n",
       "  3404,\n",
       "  4492,\n",
       "  7790,\n",
       "  860,\n",
       "  684,\n",
       "  3738]]"
      ]
     },
     "execution_count": 11,
     "metadata": {},
     "output_type": "execute_result"
    }
   ],
   "source": [
    "l1r"
   ]
  },
  {
   "cell_type": "code",
   "execution_count": 12,
   "id": "df5d609c",
   "metadata": {},
   "outputs": [],
   "source": [
    "l1 = [r+r1+w+w1 for r,r1,w,w1 in zip(l1r, l1r1, l1w,l1w1)]\n",
    "l1_good_p = [[float(n/t*100) for n,t in zip(num,tot) ] for num,tot in zip(l1, l1_t)]\n",
    "l1_inf_p = [[float(n/t*100) for n,t in zip(num,tot) ] for num,tot in zip(l1inf, l1_t)]"
   ]
  },
  {
   "cell_type": "code",
   "execution_count": 13,
   "id": "8c64c78c",
   "metadata": {},
   "outputs": [
    {
     "data": {
      "text/plain": [
       "[688660, 108507794, 25288051, 9000018, 14458914]"
      ]
     },
     "execution_count": 13,
     "metadata": {},
     "output_type": "execute_result"
    }
   ],
   "source": [
    "metric = 'l2_t'\n",
    "l2_t = [get_list(o, metric) for o in outdir_hist if '_5' in o]\n",
    "# print(f'sd_t ={sd_t}')\n",
    "l2_t_sum = [sum(arr) for arr in l2_t]\n",
    "l2_t_sum"
   ]
  },
  {
   "cell_type": "code",
   "execution_count": 14,
   "id": "afb621f7",
   "metadata": {},
   "outputs": [
    {
     "data": {
      "text/plain": [
       "[23.987744315046612,\n",
       " 59.523275351077544,\n",
       " 11.149799563438084,\n",
       " 9.793558190661395,\n",
       " 61.60140381220886]"
      ]
     },
     "execution_count": 14,
     "metadata": {},
     "output_type": "execute_result"
    }
   ],
   "source": [
    "metric = 'l2r'\n",
    "l2r = [get_list(o, metric) for o in outdir_hist if '_5' in o]\n",
    "assert len(l2r[0]) == 64\n",
    "# sd_rd_0_pc = [[float(ii/tt)*100 for ii, tt in zip(i, t)] for i,t in zip(sd_rd_0, sd_t)]\n",
    "# print(f'sd_rd_0 percent ={sd_rd_0_pc}')\n",
    "l2r_sum = [sum(arr) for arr in l2r]\n",
    "l2r_mean = [float(i/t*100) for i,t in zip(l2r_sum, l2_t_sum)]\n",
    "l2r_mean"
   ]
  },
  {
   "cell_type": "code",
   "execution_count": 15,
   "id": "08db907a",
   "metadata": {},
   "outputs": [
    {
     "data": {
      "text/plain": [
       "[3.1403014549995647,\n",
       " 0.7281523021286379,\n",
       " 7.662662496212144,\n",
       " 1.382486123916641,\n",
       " 1.167224592386399]"
      ]
     },
     "execution_count": 15,
     "metadata": {},
     "output_type": "execute_result"
    }
   ],
   "source": [
    "metric = 'l2w'\n",
    "l2w = [get_list(o, metric) for o in outdir_hist if '_5' in o]\n",
    "assert len(l2w[0]) == 64\n",
    "# sd_rd_0_pc = [[float(ii/tt)*100 for ii, tt in zip(i, t)] for i,t in zip(sd_rd_0, sd_t)]\n",
    "# print(f'sd_rd_0 percent ={sd_rd_0_pc}')\n",
    "l2w_sum = [sum(arr) for arr in l2w]\n",
    "l2w_mean = [float(i/t*100) for i,t in zip(l2w_sum, l2_t_sum)]\n",
    "l2w_mean"
   ]
  },
  {
   "cell_type": "code",
   "execution_count": 16,
   "id": "dd96fd5f",
   "metadata": {},
   "outputs": [
    {
     "data": {
      "text/plain": [
       "[27.128045770046178,\n",
       " 60.25142765320618,\n",
       " 18.81246205965023,\n",
       " 11.176044314578036,\n",
       " 62.768628404595255]"
      ]
     },
     "execution_count": 16,
     "metadata": {},
     "output_type": "execute_result"
    }
   ],
   "source": [
    "l2_mean0 = [r+w for r,w in zip(l2r_mean, l2w_mean)]\n",
    "l2_mean0"
   ]
  },
  {
   "cell_type": "code",
   "execution_count": 17,
   "id": "ab387d33",
   "metadata": {},
   "outputs": [
    {
     "data": {
      "text/plain": [
       "[47.34295588534255,\n",
       " 86.32266913471672,\n",
       " 22.771909151875725,\n",
       " 15.289802753727823,\n",
       " 69.71596898632913]"
      ]
     },
     "execution_count": 17,
     "metadata": {},
     "output_type": "execute_result"
    }
   ],
   "source": [
    "metric = 'l2r1'\n",
    "l2r1 = [get_list(o, metric) for o in outdir_hist if '_5' in o]\n",
    "assert len(l2r1[0]) == 64\n",
    "# sd_rd_0_pc = [[float(ii/tt)*100 for ii, tt in zip(i, t)] for i,t in zip(sd_rd_0, sd_t)]\n",
    "# print(f'sd_rd_0 percent ={sd_rd_0_pc}')\n",
    "l2r1_sum = [sum(arr) for arr in l2r1]\n",
    "l2r1_mean = [float(i/t*100) for i,t in zip(l2r1_sum, l2_t_sum)]\n",
    "\n",
    "\n",
    "metric = 'l2w1'\n",
    "l2w1 = [get_list(o, metric) for o in outdir_hist if '_5' in o]\n",
    "assert len(l2w1[0]) == 64\n",
    "# sd_rd_0_pc = [[float(ii/tt)*100 for ii, tt in zip(i, t)] for i,t in zip(sd_rd_0, sd_t)]\n",
    "# print(f'sd_rd_0 percent ={sd_rd_0_pc}')\n",
    "l2w1_sum = [sum(arr) for arr in l2w1]\n",
    "l2w1_mean = [float(i/t*100) for i,t in zip(l2w1_sum, l2_t_sum)]\n",
    "\n",
    "l2_mean1 = [r1+w1+r2+w2 for r1,w1,r2,w2 in zip(l2r_mean, l2w_mean,l2r1_mean, l2w1_mean)]\n",
    "l2_mean1"
   ]
  },
  {
   "cell_type": "code",
   "execution_count": 18,
   "id": "1b53de4e",
   "metadata": {},
   "outputs": [
    {
     "data": {
      "text/plain": [
       "[21.615310893619494,\n",
       " 0.33525702310379657,\n",
       " 5.2705920278316425,\n",
       " 30.173839652320694,\n",
       " 2.785769387659405]"
      ]
     },
     "execution_count": 18,
     "metadata": {},
     "output_type": "execute_result"
    }
   ],
   "source": [
    "metric = 'l2_inf'\n",
    "l2inf = [get_list(o, metric) for o in outdir_hist if '_5' in o]\n",
    "assert len(l2inf[0]) == 64\n",
    "# sd_rd_0_pc = [[float(ii/tt)*100 for ii, tt in zip(i, t)] for i,t in zip(sd_rd_0, sd_t)]\n",
    "# print(f'sd_rd_0 percent ={sd_rd_0_pc}')\n",
    "l2inf_sum = [sum(arr) for arr in l2inf]\n",
    "l2inf_mean = [float(i/t*100) for i,t in zip(l2inf_sum, l2_t_sum)]\n",
    "l2inf_mean"
   ]
  },
  {
   "cell_type": "markdown",
   "id": "0afeec3f",
   "metadata": {},
   "source": [
    "## l2 low stack dist, inf stack dist"
   ]
  },
  {
   "cell_type": "code",
   "execution_count": 19,
   "id": "b3c7d11c",
   "metadata": {},
   "outputs": [],
   "source": [
    "l2 = [r+r1+w+w1 for r,r1,w,w1 in zip(l2r, l2r1, l2w,l2w1)]\n",
    "l2_good_p = [[float(n/t*100) for n,t in zip(num,tot) ] for num,tot in zip(l2, l2_t)]\n",
    "l2_inf_p = [[float(n/t*100) for n,t in zip(num,tot) ] for num,tot in zip(l2inf, l2_t)]"
   ]
  },
  {
   "cell_type": "markdown",
   "id": "008499b5",
   "metadata": {},
   "source": [
    "# plot"
   ]
  },
  {
   "cell_type": "code",
   "execution_count": 20,
   "id": "e067129a",
   "metadata": {},
   "outputs": [],
   "source": [
    "l1_std_sd = []\n",
    "l2_std_sd = []\n",
    "for l1_arr, l2_arr, l1_anno_arr, l2_anno_arr, \\\n",
    "    name,  \\\n",
    "    in zip(l1_good_p, l2_good_p, l1_good_p, l2_good_p, \\\n",
    "        bench, ):\n",
    "    \n",
    "    l1_matrix = to_matrix(l1_arr, 8)\n",
    "    l2_matrix = to_matrix(l2_arr, 8)\n",
    "    \n",
    "    l1_anno_matrix = to_matrix(l1_anno_arr, 8)\n",
    "    l2_anno_matrix = to_matrix(l2_anno_arr, 8)\n",
    "    \n",
    "    # rouding\n",
    "#     l1_matrix = [ [round(elem, 2) for elem in my_list] for my_list in l1_matrix ]\n",
    "#     l2_matrix = [ [round(elem, 2) for elem in my_list] for my_list in l2_matrix ]\n",
    "    l1_anno_matrix = [ [round(elem, 2) for elem in my_list] for my_list in l1_anno_matrix ]\n",
    "    l2_anno_matrix = [ [round(elem, 2) for elem in my_list] for my_list in l2_anno_matrix ]\n",
    "\n",
    "    \n",
    "    # l1 heatmap\n",
    "    fig = px.imshow(l1_matrix,\n",
    "                labels=dict(x=\"\", y=\"\", color= f\"l1 low stack distance (<64) line percentage\"),\n",
    "               )\n",
    "\n",
    "    l1_std_ = np.std(l1_arr)\n",
    "    l1_std_sd.append(l1_std_)\n",
    "    \n",
    "    fig.update_layout(\n",
    "        title=f\"{name}: std={l1_std_}\",\n",
    "    )\n",
    "    fig.update_traces(text=l1_anno_matrix, texttemplate=\"%{text}\")\n",
    "    fig.show()\n",
    "    \n",
    "    # l2 heatmap\n",
    "#     print(l2_matrix)\n",
    "    fig = px.imshow(l2_matrix,\n",
    "                labels=dict(x=\"\", y=\"\", color=f\"l2 low stack distance (<64) line percentage\"),\n",
    "               )\n",
    "    l2_std_ = np.std(l2_arr)\n",
    "    l2_std_sd.append(l2_std_)\n",
    "    fig.update_layout(\n",
    "        title=f\"{name}: std={l2_std_}\",\n",
    "    )\n",
    "    fig.update_traces(text=l2_anno_matrix, texttemplate=\"%{text}\")\n",
    "    fig.show()"
   ]
  },
  {
   "cell_type": "code",
   "execution_count": null,
   "id": "6423eb24",
   "metadata": {},
   "outputs": [],
   "source": []
  }
 ],
 "metadata": {
  "kernelspec": {
   "display_name": "Python 3 (ipykernel)",
   "language": "python",
   "name": "python3"
  },
  "language_info": {
   "codemirror_mode": {
    "name": "ipython",
    "version": 3
   },
   "file_extension": ".py",
   "mimetype": "text/x-python",
   "name": "python",
   "nbconvert_exporter": "python",
   "pygments_lexer": "ipython3",
   "version": "3.8.10"
  }
 },
 "nbformat": 4,
 "nbformat_minor": 5
}
